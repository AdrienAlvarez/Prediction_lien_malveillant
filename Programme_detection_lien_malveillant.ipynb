{
  "nbformat": 4,
  "nbformat_minor": 0,
  "metadata": {
    "colab": {
      "provenance": [],
      "authorship_tag": "ABX9TyNNei726MR3AYIZyURNHSwc",
      "include_colab_link": true
    },
    "kernelspec": {
      "name": "python3",
      "display_name": "Python 3"
    },
    "language_info": {
      "name": "python"
    }
  },
  "cells": [
    {
      "cell_type": "markdown",
      "metadata": {
        "id": "view-in-github",
        "colab_type": "text"
      },
      "source": [
        "<a href=\"https://colab.research.google.com/github/AdrienAlvarez/Prediction_lien_malveillant/blob/main/Prediction_lien_malveillant.ipynb\" target=\"_parent\"><img src=\"https://colab.research.google.com/assets/colab-badge.svg\" alt=\"Open In Colab\"/></a>"
      ]
    },
    {
      "cell_type": "code",
      "source": [
        "#Import des librairies\n",
        "import pandas as pd\n",
        "import pandas as pd\n",
        "from sklearn.feature_extraction.text import TfidfVectorizer\n",
        "from sklearn.model_selection import train_test_split\n",
        "from sklearn.linear_model import LogisticRegression\n",
        "from sklearn.metrics import accuracy_score\n",
        "import joblib\n",
        "\n",
        "#Charger le jeu de données\n",
        "malicious_urls = pd.read_csv('/content/malicious_urls.csv')\n",
        "\n",
        "# Transformation des URL en vecteurs TF-IDF\n",
        "vectorizer = TfidfVectorizer()\n",
        "X = vectorizer.fit_transform(malicious_urls['url'])\n",
        "\n",
        "# Séparation en données d'entraînement et de test\n",
        "X_train, X_test, y_train, y_test = train_test_split(X, malicious_urls['type'], test_size=0.2, random_state=42)\n",
        "\n",
        "# Entrainement du modèle de régression logistique\n",
        "model = LogisticRegression()\n",
        "model.fit(X_train, y_train)\n",
        "\n",
        "# Prédictions et évaluation\n",
        "y_pred = model.predict(X_test)\n",
        "accuracy = accuracy_score(y_test, y_pred)\n",
        "print(f\"Accuracy: {accuracy}\")"
      ],
      "metadata": {
        "colab": {
          "base_uri": "https://localhost:8080/"
        },
        "id": "3zpmUj3fzCFA",
        "outputId": "d26c1f39-9cb7-4dc8-9cfb-6df8f8559b91"
      },
      "execution_count": null,
      "outputs": [
        {
          "output_type": "stream",
          "name": "stdout",
          "text": [
            "Accuracy: 0.9679738320520402\n"
          ]
        },
        {
          "output_type": "stream",
          "name": "stderr",
          "text": [
            "/usr/local/lib/python3.10/dist-packages/sklearn/linear_model/_logistic.py:458: ConvergenceWarning: lbfgs failed to converge (status=1):\n",
            "STOP: TOTAL NO. of ITERATIONS REACHED LIMIT.\n",
            "\n",
            "Increase the number of iterations (max_iter) or scale the data as shown in:\n",
            "    https://scikit-learn.org/stable/modules/preprocessing.html\n",
            "Please also refer to the documentation for alternative solver options:\n",
            "    https://scikit-learn.org/stable/modules/linear_model.html#logistic-regression\n",
            "  n_iter_i = _check_optimize_result(\n"
          ]
        }
      ]
    },
    {
      "cell_type": "code",
      "source": [
        "#Connection à Google Drive\n",
        "from google.colab import drive\n",
        "drive.mount('/content/drive')\n",
        "\n",
        "#Sauvegarde du modèle\n",
        "joblib.dump(model, '/content/drive/MyDrive/Rocket4Sales/moodel_rocket_pred.joblib')\n",
        "\n",
        "#Sauvegarde du vectoriseur\n",
        "joblib.dump(vectorizer, '/content/drive/MyDrive/Rocket4Sales/vectorizer_rocket_pred.joblib')"
      ],
      "metadata": {
        "colab": {
          "base_uri": "https://localhost:8080/"
        },
        "id": "dbeNEYvVVWwl",
        "outputId": "301d5dfa-13e7-43af-d39c-d96cc067b348"
      },
      "execution_count": null,
      "outputs": [
        {
          "output_type": "stream",
          "name": "stdout",
          "text": [
            "Drive already mounted at /content/drive; to attempt to forcibly remount, call drive.mount(\"/content/drive\", force_remount=True).\n"
          ]
        },
        {
          "output_type": "execute_result",
          "data": {
            "text/plain": [
              "['/content/drive/MyDrive/Rocket4Sales/vectorizer_rocket_pred.joblib']"
            ]
          },
          "metadata": {},
          "execution_count": 26
        }
      ]
    },
    {
      "cell_type": "markdown",
      "source": [
        "### Programme"
      ],
      "metadata": {
        "id": "n6k1cLX98XLY"
      }
    },
    {
      "cell_type": "code",
      "source": [
        "def evaluate_url(url):\n",
        "    valeurs_valides_type = ['phishing', 'benign', 'defacement', 'malware']\n",
        "    url_vector = vectorizer.transform([url])\n",
        "    prediction = model.predict(url_vector)\n",
        "    if prediction[0] in valeurs_valides_type:\n",
        "        return f\"Ce lien est un lien {prediction[0]}.\"\n",
        "    else:\n",
        "        return \"Erreur dans la prédiction, impossible de déterminer le type de lien.\"\n",
        "\n",
        "# Vous pouvez tester la fonction en l'appelant avec un URL\n",
        "url = input(\"Veuillez rentrer le lien douteux: \")\n",
        "result = evaluate_url(url)\n",
        "print(result)"
      ],
      "metadata": {
        "colab": {
          "base_uri": "https://localhost:8080/"
        },
        "id": "ct3SCl2KQWZ4",
        "outputId": "9701cf55-b41b-4574-d859-1d11aa081f31"
      },
      "execution_count": null,
      "outputs": [
        {
          "output_type": "stream",
          "name": "stdout",
          "text": [
            "Veuillez rentrer le lien douteux: br-icloud.com.html\n",
            "Ce lien est un lien phishing.\n"
          ]
        }
      ]
    }
  ]
}
